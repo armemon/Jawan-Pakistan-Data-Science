{
 "cells": [
  {
   "cell_type": "code",
   "execution_count": 1,
   "id": "0b22618d",
   "metadata": {},
   "outputs": [
    {
     "name": "stdout",
     "output_type": "stream",
     "text": [
      "Twinkle,Twinkle,Little Star, \n",
      "\t How I wonder, What are you!\n",
      " \t \t Up above the world so high,\n",
      " \t \t Like a diamond in the sky,\n",
      "Twinkle,Twinkle,Little star, \n",
      "\t How I wonder, What are you!\n"
     ]
    }
   ],
   "source": [
    "# Quetion 1\n",
    "print('Twinkle,Twinkle,Little Star, ') \n",
    "print('\\t How I wonder, What are you!')\n",
    "print(' \\t \\t Up above the world so high,')\n",
    "print(' \\t \\t Like a diamond in the sky,')\n",
    "print('Twinkle,Twinkle,Little star, ')\n",
    "print('\\t How I wonder, What are you!')"
   ]
  },
  {
   "cell_type": "code",
   "execution_count": 2,
   "id": "553ba75c",
   "metadata": {},
   "outputs": [
    {
     "name": "stdout",
     "output_type": "stream",
     "text": [
      "3.9.7 (default, Sep 16 2021, 16:59:28) [MSC v.1916 64 bit (AMD64)]\n"
     ]
    }
   ],
   "source": [
    "# Question 2\n",
    "import sys\n",
    "print(sys.version)"
   ]
  },
  {
   "cell_type": "code",
   "execution_count": 3,
   "id": "527597ba",
   "metadata": {},
   "outputs": [
    {
     "name": "stdout",
     "output_type": "stream",
     "text": [
      "Date and Time is: 01/01/2022 19:08:32\n"
     ]
    }
   ],
   "source": [
    "# Question 3\n",
    "from datetime import datetime\n",
    "\n",
    "now = datetime.now()\n",
    "\n",
    "dt_string = now.strftime(\"%d/%m/%Y %H:%M:%S\")\n",
    "print(\"Date and Time is:\", dt_string)"
   ]
  },
  {
   "cell_type": "code",
   "execution_count": 4,
   "id": "73b6a06c",
   "metadata": {},
   "outputs": [
    {
     "name": "stdout",
     "output_type": "stream",
     "text": [
      "Enter radius of circle: 2\n",
      "Area of circle = 12.56636\n"
     ]
    }
   ],
   "source": [
    "# Question 4\n",
    "r = float(input(\"Enter radius of circle: \"))\n",
    "a = 3.14159 * r**2\n",
    "print(\"Area of circle =\", a)"
   ]
  },
  {
   "cell_type": "code",
   "execution_count": 5,
   "id": "a6891274",
   "metadata": {},
   "outputs": [
    {
     "name": "stdout",
     "output_type": "stream",
     "text": [
      "Input your First Name : AR\n",
      "Input your Last Name : Memon\n",
      "Hello Memon AR\n"
     ]
    }
   ],
   "source": [
    "# Question 5\n",
    "firstname = input(\"Input your First Name : \")\n",
    "\n",
    "lastname = input(\"Input your Last Name : \")\n",
    "\n",
    "print (\"Hello\" , lastname , firstname)"
   ]
  },
  {
   "cell_type": "code",
   "execution_count": 6,
   "id": "2b6fc2b9",
   "metadata": {},
   "outputs": [
    {
     "name": "stdout",
     "output_type": "stream",
     "text": [
      "Write any number:13\n",
      "Write another number:13.5\n",
      "The sum of these 2 numbers is:  26.5\n"
     ]
    }
   ],
   "source": [
    "# Question 6\n",
    "sum1 = float(input(\"Write any number:\"))\n",
    "sum2 = float(input(\"Write another number:\"))\n",
    "sum = sum1+sum2\n",
    "print(\"The sum of these 2 numbers is: \",sum)"
   ]
  }
 ],
 "metadata": {
  "kernelspec": {
   "display_name": "Python 3 (ipykernel)",
   "language": "python",
   "name": "python3"
  },
  "language_info": {
   "codemirror_mode": {
    "name": "ipython",
    "version": 3
   },
   "file_extension": ".py",
   "mimetype": "text/x-python",
   "name": "python",
   "nbconvert_exporter": "python",
   "pygments_lexer": "ipython3",
   "version": "3.9.7"
  }
 },
 "nbformat": 4,
 "nbformat_minor": 5
}
